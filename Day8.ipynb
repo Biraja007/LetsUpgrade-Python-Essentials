{
 "cells": [
  {
   "cell_type": "markdown",
   "metadata": {},
   "source": [
    "# Day 8 B7 Assignments:\n"
   ]
  },
  {
   "cell_type": "markdown",
   "metadata": {},
   "source": [
    "Q1-"
   ]
  },
  {
   "cell_type": "code",
   "execution_count": 17,
   "metadata": {},
   "outputs": [],
   "source": [
    "def getInput(calculate_arg_fun):\n",
    "    \n",
    "    def wrap_function():\n",
    "    \n",
    "        a = int(input(\"\\nEnter First Number - \"))\n",
    "        \n",
    "        b = int(input(\"\\nEnter Second Number - \"))\n",
    "        \n",
    "        calculate_arg_fun(a,b)   \n",
    "    \n",
    "    return wrap_function"
   ]
  },
  {
   "cell_type": "code",
   "execution_count": 18,
   "metadata": {},
   "outputs": [],
   "source": [
    "@getInput\n",
    "\n",
    "def EvenFinder(start, last):\n",
    "    \n",
    "    print(\"\\nThe Even numbers in the range\",start,\"to\",last,\"is :\\n\")\n",
    "\n",
    "    for n in range(start, last + 1): \n",
    "      \n",
    "        if n % 2 == 0: \n",
    "            \n",
    "            print(n, end = \" \")"
   ]
  },
  {
   "cell_type": "code",
   "execution_count": 19,
   "metadata": {},
   "outputs": [
    {
     "name": "stdout",
     "output_type": "stream",
     "text": [
      "\n",
      "Enter First Number - 1\n",
      "\n",
      "Enter Second Number - 38\n",
      "\n",
      "The Even numbers in the range 1 to 38 is :\n",
      "\n",
      "2 4 6 8 10 12 14 16 18 20 22 24 26 28 30 32 34 36 38 "
     ]
    }
   ],
   "source": [
    "EvenFinder()"
   ]
  },
  {
   "cell_type": "markdown",
   "metadata": {},
   "source": [
    "Q2="
   ]
  },
  {
   "cell_type": "code",
   "execution_count": 12,
   "metadata": {},
   "outputs": [
    {
     "name": "stdout",
     "output_type": "stream",
     "text": [
      "Writing test.txt\n"
     ]
    }
   ],
   "source": [
    "\n",
    "%%writefile test.txt\n",
    "\n",
    "Hi this is BIRAJA\n",
    "i love letsupgrade\n",
    "\n"
   ]
  },
  {
   "cell_type": "code",
   "execution_count": 13,
   "metadata": {},
   "outputs": [
    {
     "name": "stdout",
     "output_type": "stream",
     "text": [
      "Error has been occured\n",
      "Error message is : not writable\n"
     ]
    }
   ],
   "source": [
    "try:\n",
    "    \n",
    "    file = open(\"test.txt\",\"r\")\n",
    "    \n",
    "    file.write(\"I am from MUMBAI.\")\n",
    "    \n",
    "    print(\"Write operation has done successfully in read only mode.\")\n",
    "    \n",
    "except Exception as ER:\n",
    "    \n",
    "    print(\"Error has been occured\")\n",
    "    \n",
    "    print(\"Error message is :\",ER)"
   ]
  },
  {
   "cell_type": "code",
   "execution_count": null,
   "metadata": {},
   "outputs": [],
   "source": []
  }
 ],
 "metadata": {
  "kernelspec": {
   "display_name": "Python 3",
   "language": "python",
   "name": "python3"
  },
  "language_info": {
   "codemirror_mode": {
    "name": "ipython",
    "version": 3
   },
   "file_extension": ".py",
   "mimetype": "text/x-python",
   "name": "python",
   "nbconvert_exporter": "python",
   "pygments_lexer": "ipython3",
   "version": "3.7.6"
  }
 },
 "nbformat": 4,
 "nbformat_minor": 4
}
